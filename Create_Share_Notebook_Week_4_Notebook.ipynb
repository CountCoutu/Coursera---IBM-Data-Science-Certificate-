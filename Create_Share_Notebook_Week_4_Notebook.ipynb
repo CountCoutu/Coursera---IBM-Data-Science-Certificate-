{
 "cells": [
  {
   "cell_type": "markdown",
   "metadata": {
    "collapsed": true
   },
   "source": [
    "# My Jupyter Notebook on IBM Watson Studio"
   ]
  },
  {
   "cell_type": "markdown",
   "metadata": {},
   "source": [
    "**Joshua Coutu**<br>\n",
    "Data Scientist"
   ]
  },
  {
   "cell_type": "markdown",
   "metadata": {},
   "source": [
    "*I am intersted in data science because I'd like to pivot my career to use my degrees in mathematics in a more challenging and high-growth field.*"
   ]
  },
  {
   "cell_type": "markdown",
   "metadata": {},
   "source": [
    "### In Cell 5, the code will create a function with the input n as the exponent \"e\" is raised to, and then return the result"
   ]
  },
  {
   "cell_type": "code",
   "execution_count": 2,
   "metadata": {},
   "outputs": [
    {
     "data": {
      "text/plain": [
       "7.3890560989306495"
      ]
     },
     "execution_count": 2,
     "metadata": {},
     "output_type": "execute_result"
    }
   ],
   "source": [
    "from math import e\n",
    "def exp(n):\n",
    "    return e**n\n",
    "# example\n",
    "\n",
    "exp(2)\n"
   ]
  },
  {
   "cell_type": "markdown",
   "metadata": {},
   "source": [
    "**Creating a Table in Markdown**\n",
    "\n",
    "\n",
    "x|f(x)=x+2|g(x)=x^2\n",
    "---|---|---\n",
    "*n/a*|`linear`|**quadratic**\n",
    "0|2|0\n",
    "1|3|1\n",
    "2|4|4\n",
    "3|5|9\n",
    "\n",
    "**Creating a bullet list:**\n",
    "<br>Grocery List:\n",
    "- apples\n",
    "- peppers\n",
    "- peanut butter\n",
    "\n",
    "**Creating a numbered list:**\n",
    "<br>Agenda:\n",
    "1. Warm Up\n",
    "2. Notes\n",
    "3. Practice Problems\n",
    "4. Quiz"
   ]
  }
 ],
 "metadata": {
  "kernelspec": {
   "display_name": "Python 3.9",
   "language": "python",
   "name": "python3"
  },
  "language_info": {
   "codemirror_mode": {
    "name": "ipython",
    "version": 3
   },
   "file_extension": ".py",
   "mimetype": "text/x-python",
   "name": "python",
   "nbconvert_exporter": "python",
   "pygments_lexer": "ipython3",
   "version": "3.9.12"
  }
 },
 "nbformat": 4,
 "nbformat_minor": 1
}
